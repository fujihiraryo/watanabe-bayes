{
 "cells": [
  {
   "cell_type": "code",
   "execution_count": 4,
   "metadata": {},
   "outputs": [],
   "source": [
    "import numpy as np\n",
    "import matplotlib.pyplot as plt\n",
    "import io\n",
    "from PIL import Image\n",
    "from scipy.special import psi\n",
    "from datetime import datetime as dt"
   ]
  },
  {
   "cell_type": "code",
   "execution_count": 20,
   "metadata": {},
   "outputs": [
    {
     "name": "stdout",
     "output_type": "stream",
     "text": [
      "Using matplotlib backend: agg\n",
      "complete\n",
      "CPU times: user 14.9 s, sys: 4.81 s, total: 19.7 s\n",
      "Wall time: 11.7 s\n"
     ]
    }
   ],
   "source": [
    "%%time\n",
    "%matplotlib\n",
    "\n",
    "N=100 #サンプル数\n",
    "T=50 #くりかえし回数\n",
    "K=3 #コンポーネント数\n",
    "\n",
    "#サンプル生成\n",
    "X1=np.random.multivariate_normal([0,4],[[1,0],[0,1]],20)\n",
    "X2=np.random.multivariate_normal([2,-2],[[1,0],[0,1]],30)\n",
    "X3=np.random.multivariate_normal([-3,-3],[[1,0],[0,1]],50)\n",
    "X=np.concatenate((X1,X2,X3),axis=0)\n",
    "\n",
    "#ハイパラの初期値\n",
    "phi=[1 for k in range(K)]\n",
    "mu=[np.zeros(2)+np.random.rand(2)/10 for k in range(K)]\n",
    "tau=[1 for k in range(K)]\n",
    "\n",
    "images=[]\n",
    "for t in range(T):\n",
    "    #描画準備\n",
    "    plt.figure(figsize=(10,10))\n",
    "    plt.xlim(-5,5)\n",
    "    plt.ylim(-5,5)\n",
    "    plt.title(\"N=\"+str(N)+\", iter=\"+str(t))\n",
    "    \n",
    "    #サンプルの散布図\n",
    "    plt.scatter(X1[:,0],X1[:,1])\n",
    "    plt.scatter(X2[:,0],X2[:,1])\n",
    "    plt.scatter(X3[:,0],X3[:,1])\n",
    "\n",
    "    #予測分布の等高線\n",
    "    lin=np.linspace(-5,5,100)\n",
    "    x0,x1=np.meshgrid(lin,lin)\n",
    "    p_predict=0\n",
    "    for k in range(K):\n",
    "        p_predict_k=1\n",
    "        p_predict_k*=(phi[k]/(N+K))*(1/(2*np.pi))*(tau[k]/(1+tau[k]))\n",
    "        p_predict_k*=np.exp(-((x0-mu[k][0])**2+(x1-mu[k][1])**2)*tau[k]/(2*(1+tau[k])))\n",
    "        p_predict+=p_predict_k\n",
    "    plt.contour(x0,x1,p_predict)\n",
    "    \n",
    "    #画像保存\n",
    "    buf=io.BytesIO()\n",
    "    plt.savefig(buf,format=\"png\")\n",
    "    images.append(Image.open(buf))\n",
    "    plt.close()\n",
    "\n",
    "    #隠れ変数の推定\n",
    "    L=[]\n",
    "    for i in range(N):\n",
    "        Li=[]\n",
    "        for k in range(K):\n",
    "            Lik=psi(phi[k])-psi(sum(phi))-1/tau[k]\n",
    "            Lik=Lik-((X[i][0]-mu[k][0])**2+(X[i][1]-mu[k][1])**2)/2\n",
    "            Li.append(Lik)\n",
    "        L.append(Li)\n",
    "    Y=[]\n",
    "    for i in range(N):\n",
    "        Yi=[]\n",
    "        for k in range(K):\n",
    "            Yik=np.exp(L[i][k])/sum([np.exp(L[i][k]) for k in range(K)])\n",
    "            Yi.append(Yik)\n",
    "        Y.append(Yi)\n",
    "    \n",
    "    #ハイパラ更新\n",
    "    for k in range(K):\n",
    "        phi[k]=phi[k]+sum([Y[i][k] for i in range(N)])\n",
    "        mu[k]=(tau[k]*mu[k]+sum([X[i]*Y[i][k] for i in range(N)]))/(tau[k]+sum([Y[i][k] for i in range(N)]))\n",
    "        tau[k]=tau[k]+sum([Y[i][k] for i in range(N)])\n",
    "\n",
    "#gifを作成して保存\n",
    "now=dt.now().strftime(\"%Y%m%d%H%M%S\")\n",
    "images[0].save(now+'.gif', save_all=True, append_images=images[1:], duration=5, loop=0)\n",
    "buf.close()\n",
    "print(\"complete\")"
   ]
  },
  {
   "cell_type": "code",
   "execution_count": null,
   "metadata": {},
   "outputs": [],
   "source": []
  }
 ],
 "metadata": {
  "kernelspec": {
   "display_name": "Python 3",
   "language": "python",
   "name": "python3"
  },
  "language_info": {
   "codemirror_mode": {
    "name": "ipython",
    "version": 3
   },
   "file_extension": ".py",
   "mimetype": "text/x-python",
   "name": "python",
   "nbconvert_exporter": "python",
   "pygments_lexer": "ipython3",
   "version": "3.7.3"
  }
 },
 "nbformat": 4,
 "nbformat_minor": 4
}
