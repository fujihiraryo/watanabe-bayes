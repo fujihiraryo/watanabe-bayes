{
 "cells": [
  {
   "cell_type": "code",
   "execution_count": 247,
   "metadata": {},
   "outputs": [],
   "source": [
    "import numpy as np\n",
    "import matplotlib.pyplot as plt\n",
    "import time"
   ]
  },
  {
   "cell_type": "code",
   "execution_count": 127,
   "metadata": {},
   "outputs": [],
   "source": [
    "# 隠れ変数を含めたモデル\n",
    "def p(x,y,a,b):\n",
    "    p0=(1-a)*np.exp(-x**2/2)/(2*np.pi)**0.5\n",
    "    p1=a*np.exp(-(x-b)**2/2)/(2*np.pi)**0.5\n",
    "    return (p0**(1-y))*(p1**y)"
   ]
  },
  {
   "cell_type": "code",
   "execution_count": 198,
   "metadata": {},
   "outputs": [],
   "source": [
    "# 真の分布からのサンプリング\n",
    "n=1000\n",
    "a0=0.3\n",
    "b0=3\n",
    "sigma=1\n",
    "X=[]\n",
    "for i in range(n):\n",
    "    u=np.random.random()\n",
    "    if u<1-a0:\n",
    "        x=np.random.normal(0,1)\n",
    "    else:\n",
    "        x=np.random.normal(b0,1)\n",
    "    X.append(x)"
   ]
  },
  {
   "cell_type": "code",
   "execution_count": 199,
   "metadata": {},
   "outputs": [],
   "source": [
    "# 事後分布からのサンプリング\n",
    "K=5000\n",
    "A,B=[],[]\n",
    "alpha=(1,1)\n",
    "beta=1\n",
    "gamma=1\n",
    "mu=0\n",
    "for k in range(K):\n",
    "    a=np.random.beta(alpha[0],alpha[1])\n",
    "    b=np.random.normal(mu,gamma**(-0.5))\n",
    "    A.append(a)\n",
    "    B.append(b)\n",
    "    Y=[]\n",
    "    for i in range(n):\n",
    "        u=np.random.random()\n",
    "        x=X[i]\n",
    "        if u<p(x,0,a,b)/(p(x,0,a,b)+p(x,1,a,b)):\n",
    "            Y.append(0)\n",
    "        else:\n",
    "            Y.append(1)\n",
    "    sum_Y=sum(Y)\n",
    "    sum_XY=sum([X[i]*Y[i] for i in range(n)])\n",
    "    alpha=alpha[0]+beta*sum_Y,alpha[1]+beta*(n-sum_Y)\n",
    "    mu=(gamma*mu+beta*sum_XY)/(gamma+beta*sum_Y)\n",
    "    gamma=gamma+beta*sum_Y"
   ]
  },
  {
   "cell_type": "code",
   "execution_count": 214,
   "metadata": {},
   "outputs": [
    {
     "data": {
      "image/png": "[encoded data removed]",
      "text/plain": [
       "<Figure size 432x288 with 1 Axes>"
      ]
     },
     "metadata": {
      "needs_background": "light"
     },
     "output_type": "display_data"
    }
   ],
   "source": [
    "# 予測分布のプロット\n",
    "x=np.linspace(-5,5,100)\n",
    "plt.plot(x,p(x,0,a0,b0)+p(x,1,a0,b0),label='true')\n",
    "def prd(x):\n",
    "    return sum([p(x,0,A[k],B[k])+p(x,1,A[k],B[k]) for k in range(K)])/K\n",
    "plt.plot(x,prd(x),label='predict')\n",
    "plt.title('N={}, K={}'.format(n,K))\n",
    "plt.legend()\n",
    "plt.savefig('predict.png')"
   ]
  },
  {
   "cell_type": "code",
   "execution_count": 213,
   "metadata": {},
   "outputs": [
    {
     "data": {
      "image/png": "[encoded data removed]",
      "text/plain": [
       "<Figure size 432x288 with 1 Axes>"
      ]
     },
     "metadata": {
      "needs_background": "light"
     },
     "output_type": "display_data"
    }
   ],
   "source": [
    "# MCMCのようす\n",
    "plt.scatter(a0,b0,label='true')\n",
    "plt.scatter(A,B,label='mcmc')\n",
    "plt.xlabel('a')\n",
    "plt.ylabel('b')\n",
    "plt.title('N={}, K={}'.format(n,K))\n",
    "plt.legend()\n",
    "plt.savefig('parameter.png')"
   ]
  },
  {
   "cell_type": "code",
   "execution_count": 241,
   "metadata": {},
   "outputs": [],
   "source": [
    "def p_j(x,y,a,b):\n",
    "    p0=(1-a)*np.exp(-x**2/2)/(2*np.pi)**0.5\n",
    "    p1=a*np.exp(-(x-b)**2/2)/(2*np.pi)**0.5\n",
    "    return (p0**(1-y))*(p1**y)\n",
    "\n",
    "def p(x,a,b):\n",
    "    return p_j(x,0,a,b)+p_j(x,1,a,b)\n",
    "\n",
    "def prd(x):\n",
    "    return sum([p(x,A[k],B[k]) for k in range(K)])/K\n",
    "\n",
    "def main(n=100,a=0.5,b=2,s=1,K=1000,burn=200):\n",
    "    # n:サンプル数, K:MCMCの遷移回数\n",
    "    # 真の分布: (1-a)N(0,s)+aN(b,s)からサンプリング\n",
    "    X=[]\n",
    "    for i in range(2*n):\n",
    "        u=np.random.random()\n",
    "        if u<1-a0:\n",
    "            x=np.random.normal(0,1)\n",
    "        else:\n",
    "            x=np.random.normal(b0,1)\n",
    "        X.append(x)\n",
    "    # 事後分布からのサンプリング\n",
    "    A,B=[],[]\n",
    "    alpha=(1,1)\n",
    "    beta=1\n",
    "    gamma=1\n",
    "    mu=0\n",
    "    for k in range(K):\n",
    "        a=np.random.beta(alpha[0],alpha[1])\n",
    "        b=np.random.normal(mu,gamma**(-0.5))\n",
    "        Y=[]\n",
    "        for i in range(n):\n",
    "            u=np.random.random()\n",
    "            x=X[i]\n",
    "            if u<p_j(x,0,a,b)/p(x,a,b):\n",
    "                Y.append(0)\n",
    "            else:\n",
    "                Y.append(1)\n",
    "        sum_Y=sum(Y)\n",
    "        sum_XY=sum([X[i]*Y[i] for i in range(n)])\n",
    "        alpha=alpha[0]+beta*sum_Y,alpha[1]+beta*(n-sum_Y)\n",
    "        mu=(gamma*mu+beta*sum_XY)/(gamma+beta*sum_Y)\n",
    "        gamma=gamma+beta*sum_Y\n",
    "        if k>=burn:\n",
    "            A.append(a)\n",
    "            B.append(b)\n",
    "    K=K-burn\n",
    "    # 汎化誤差などを計算\n",
    "    T=sum([-np.log(prd(X[i])) for i in range(n)])/n\n",
    "    G=sum([-np.log(prd(X[i])) for i in range(n+1,2*n)])/n\n",
    "    AIC=T+2/n\n",
    "    WAIC=T+sum(\n",
    "        [sum([np.log(p(X[i],A[k],B[k]))**2 for k in range(K)])/K\n",
    "         -(sum([np.log(p(X[i],A[k],B[k])) for k in range(K)])/K)**2 \n",
    "         for i in range(n)])/n\n",
    "    ISCV=sum([np.log(sum([1/p(X[i],A[k],B[k]) for k in range(K)])/K) for i in range(n)])/n\n",
    "    return G,AIC,WAIC,ISCV"
   ]
  },
  {
   "cell_type": "code",
   "execution_count": 257,
   "metadata": {},
   "outputs": [],
   "source": [
    "def plot(a=0.5,b=2,s=1,N=100,K=1000,burn=200,ex=100,name='test'):\n",
    "    G,AIC,WAIC,ISCV=[],[],[],[]\n",
    "    for _ in range(ex):\n",
    "        g,aic,waic,iscv=main(a=a,b=b,s=s,n=N,K=K,burn=burn)\n",
    "        G.append(g)\n",
    "        AIC.append(aic)\n",
    "        WAIC.append(waic)\n",
    "        ISCV.append(iscv)\n",
    "    plt.cla()\n",
    "    plt.boxplot((G,AIC,WAIC,ISCV),labels=['G','AIC','WAIC','ISCV'])\n",
    "    plt.title('{}N(0, {}) + {}N({}, {})'.format(1-a,s,a,b,s))\n",
    "    plt.savefig('../image/{}.png'.format(name))"
   ]
  },
  {
   "cell_type": "code",
   "execution_count": 259,
   "metadata": {},
   "outputs": [
    {
     "name": "stdout",
     "output_type": "stream",
     "text": [
      "1001.47\n"
     ]
    },
    {
     "data": {
      "image/png": "[encoded data removed]",
      "text/plain": [
       "<Figure size 432x288 with 1 Axes>"
      ]
     },
     "metadata": {
      "needs_background": "light"
     },
     "output_type": "display_data"
    }
   ],
   "source": [
    "start = time.time()\n",
    "plot(a=0.5, b=2, s=1, ex=10, name='regular&realizable')\n",
    "plot(a=0.5, b=2, s=0.8, ex=10, name='regular&unrealizable')\n",
    "plot(a=0, b=0, s=1, ex=10, name='nonregular&realizable')\n",
    "plot(a=0, b=0, s=0.8, ex=10, name='nonregular&unrealizable')\n",
    "plot(a=0.5, b=0.5, s=0.95, ex=10, name='delicate')\n",
    "plot(a=0.01, b=2, s=1, ex=10, name='unbalanced')\n",
    "stop = time.time()\n",
    "print(round(stop-start,2))"
   ]
  }
 ],
 "metadata": {
  "kernelspec": {
   "display_name": "Python 3",
   "language": "python",
   "name": "python3"
  },
  "language_info": {
   "codemirror_mode": {
    "name": "ipython",
    "version": 3
   },
   "file_extension": ".py",
   "mimetype": "text/x-python",
   "name": "python",
   "nbconvert_exporter": "python",
   "pygments_lexer": "ipython3",
   "version": "3.7.4"
  }
 },
 "nbformat": 4,
 "nbformat_minor": 4
}
