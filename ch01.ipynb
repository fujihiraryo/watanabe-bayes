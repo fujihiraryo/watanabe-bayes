{
 "cells": [
  {
   "cell_type": "code",
   "execution_count": 1,
   "metadata": {},
   "outputs": [],
   "source": [
    "import numpy\n",
    "import random\n",
    "import matplotlib.pyplot"
   ]
  },
  {
   "cell_type": "markdown",
   "metadata": {},
   "source": [
    "真の分布に従う確率変数"
   ]
  },
  {
   "cell_type": "markdown",
   "metadata": {},
   "source": [
    "(混合正規分布 $(1-a)N(0,1)+aN(b,1)$ に従う乱数を生成)"
   ]
  },
  {
   "cell_type": "code",
   "execution_count": 2,
   "metadata": {},
   "outputs": [],
   "source": [
    "def generator(a,b):\n",
    "    uni_rv=random.random()\n",
    "    if uni_rv>a:\n",
    "        return numpy.random.normal(0,1)\n",
    "    else:\n",
    "        return numpy.random.normal(b,1)"
   ]
  },
  {
   "cell_type": "markdown",
   "metadata": {},
   "source": [
    "標準正規分布の密度関数"
   ]
  },
  {
   "cell_type": "code",
   "execution_count": 3,
   "metadata": {},
   "outputs": [],
   "source": [
    "def normal_gaussian_pdf(x):\n",
    "    return numpy.exp(-x**2/2)/(2*numpy.pi)**0.5"
   ]
  },
  {
   "cell_type": "markdown",
   "metadata": {},
   "source": [
    "確率モデル"
   ]
  },
  {
   "cell_type": "code",
   "execution_count": 4,
   "metadata": {},
   "outputs": [],
   "source": [
    "def model(x,a,b):\n",
    "    return (1-a)*normal_gaussian_pdf(x)+a*normal_gaussian_pdf(x-b)"
   ]
  },
  {
   "cell_type": "markdown",
   "metadata": {},
   "source": [
    "サンプル数Nと真のパラメータ$a_0$, $b_0$を与えると事後分布の様子を描画"
   ]
  },
  {
   "cell_type": "code",
   "execution_count": 5,
   "metadata": {},
   "outputs": [],
   "source": [
    "def plot_posterior(a0,b0,N):\n",
    "    sample = [generator(a0,b0) for _ in range(N)]\n",
    "    a_range, b_range = numpy.meshgrid(numpy.linspace(0,1,100), numpy.linspace(-5,5,100))\n",
    "    c_range = numpy.exp(sum([numpy.log(model(x,a_range,b_range)) for x in sample]))\n",
    "    matplotlib.pyplot.contour(a_range, b_range, c_range,100)\n",
    "    matplotlib.pyplot.show()"
   ]
  },
  {
   "cell_type": "code",
   "execution_count": 6,
   "metadata": {},
   "outputs": [
    {
     "data": {
      "image/png": "[encoded data removed]",
      "text/plain": [
       "<Figure size 432x288 with 1 Axes>"
      ]
     },
     "metadata": {
      "needs_background": "light"
     },
     "output_type": "display_data"
    }
   ],
   "source": [
    "plot_posterior(0.4,1,100)"
   ]
  },
  {
   "cell_type": "code",
   "execution_count": 11,
   "metadata": {},
   "outputs": [],
   "source": [
    "def show_graph(N,a0,b0,mesh=100,cmap='viridis'):\n",
    "    sample=[generator(a0,b0) for _ in range(N)]\n",
    "    a_range, b_range = numpy.meshgrid(numpy.linspace(0,1,100), numpy.linspace(b0-2,b0+2,100))\n",
    "    c_range = numpy.exp(sum([numpy.log(p(x,a_range,b_range)) for x in sample]))\n",
    "    fig, ax = matplotlib.pyplot.subplots(figsize=(6, 6))\n",
    "    ax.contour(a_range, b_range, c_range, 100, cmap=cmap)\n",
    "    ax.set_title(\"true parameter: \"+\"a=\"+str(a0)+\", b=\"+str(b0)+\",  sample: N=\"+str(N))\n",
    "    ax.set_xlabel(\"a\")\n",
    "    ax.set_ylabel(\"b\")\n",
    "    #matplotlib.pyplot.show()\n",
    "    matplotlib.pyplot.savefig('a='+str(a0)+'_b='+str(b0)+'_N='+str(N)+'.png')"
   ]
  },
  {
   "cell_type": "code",
   "execution_count": null,
   "metadata": {},
   "outputs": [],
   "source": []
  }
 ],
 "metadata": {
  "kernelspec": {
   "display_name": "Python 3",
   "language": "python",
   "name": "python3"
  },
  "language_info": {
   "codemirror_mode": {
    "name": "ipython",
    "version": 3
   },
   "file_extension": ".py",
   "mimetype": "text/x-python",
   "name": "python",
   "nbconvert_exporter": "python",
   "pygments_lexer": "ipython3",
   "version": "3.7.3"
  }
 },
 "nbformat": 4,
 "nbformat_minor": 4
}
