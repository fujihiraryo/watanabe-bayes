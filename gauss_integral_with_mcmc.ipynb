{
 "cells": [
  {
   "cell_type": "code",
   "execution_count": 2,
   "metadata": {},
   "outputs": [],
   "source": [
    "import numpy as np\n",
    "import matplotlib.pyplot as plt"
   ]
  },
  {
   "cell_type": "code",
   "execution_count": 117,
   "metadata": {},
   "outputs": [
    {
     "data": {
      "text/plain": [
       "0.3033227384087337"
      ]
     },
     "execution_count": 117,
     "metadata": {},
     "output_type": "execute_result"
    }
   ],
   "source": [
    "def H(x):\n",
    "    return x**2/2\n",
    "T=100\n",
    "J=10\n",
    "B=np.linspace(0,1,J+1)\n",
    "X=[[0] for j in range(J)]\n",
    "accept_rate=[]\n",
    "for j in range(J):\n",
    "    accept=[]\n",
    "    for t in range(T):\n",
    "        x_t=X[j][t]\n",
    "        x_new=np.random.normal(x_t,1)\n",
    "        u=np.random.random()\n",
    "        if u<np.exp(-B[j]*H(x_new))/np.exp(-B[j]*H(x_t)):\n",
    "            accept.append(1)\n",
    "        else:\n",
    "            accept.append(0)\n",
    "            x_new=x_t\n",
    "        X[j].append(x_new)\n",
    "    accept_rate.append(sum(accept)/len(accept))\n",
    "logZ=[]\n",
    "for t in range(T):\n",
    "    logZt=0\n",
    "    for j in range(J):\n",
    "        logZt+=np.log(sum([np.exp(-(B[j+1]-B[j])*H(X[j][s])) for s in range(t+1)])/(t+1))\n",
    "    logZ.append(logZt)\n",
    "Z=[np.exp(logZt) for logZt in logZ]\n",
    "Z[-1]"
   ]
  },
  {
   "cell_type": "code",
   "execution_count": 99,
   "metadata": {},
   "outputs": [
    {
     "data": {
      "text/plain": [
       "-1.088793045151801"
      ]
     },
     "execution_count": 99,
     "metadata": {},
     "output_type": "execute_result"
    }
   ],
   "source": [
    "-np.log((2**np.pi)**0.5)"
   ]
  },
  {
   "cell_type": "code",
   "execution_count": null,
   "metadata": {},
   "outputs": [],
   "source": []
  }
 ],
 "metadata": {
  "kernelspec": {
   "display_name": "Python 3",
   "language": "python",
   "name": "python3"
  },
  "language_info": {
   "codemirror_mode": {
    "name": "ipython",
    "version": 3
   },
   "file_extension": ".py",
   "mimetype": "text/x-python",
   "name": "python",
   "nbconvert_exporter": "python",
   "pygments_lexer": "ipython3",
   "version": "3.7.3"
  }
 },
 "nbformat": 4,
 "nbformat_minor": 4
}
