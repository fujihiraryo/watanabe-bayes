{
 "cells": [
  {
   "cell_type": "code",
   "execution_count": 49,
   "metadata": {},
   "outputs": [],
   "source": [
    "import random\n",
    "import numpy as np\n",
    "import matplotlib.pyplot as plt\n",
    "import glob\n",
    "from PIL import Image\n",
    "from scipy.special import psi\n",
    "import os\n",
    "from datetime import datetime as dt"
   ]
  },
  {
   "cell_type": "code",
   "execution_count": 3,
   "metadata": {},
   "outputs": [],
   "source": [
    "def sigmoid(s):\n",
    "    return 1/(1+np.exp(-s))"
   ]
  },
  {
   "cell_type": "code",
   "execution_count": 30,
   "metadata": {},
   "outputs": [],
   "source": [
    "def gen_sample():\n",
    "    r=np.random.rand()\n",
    "    if r>a0:\n",
    "        return np.random.normal(0,1)\n",
    "    else:\n",
    "        return np.random.normal(b0,1)"
   ]
  },
  {
   "cell_type": "code",
   "execution_count": 5,
   "metadata": {},
   "outputs": [],
   "source": [
    "def p_true(x):\n",
    "    p0=np.exp(-x**2/2)/(2*np.pi)**0.5\n",
    "    p1=np.exp(-(x-b0)**2/2)/(2*np.pi)**0.5\n",
    "    return (1-a0)*p0+a0*p1"
   ]
  },
  {
   "cell_type": "code",
   "execution_count": 6,
   "metadata": {},
   "outputs": [],
   "source": [
    "def p_predict(x):\n",
    "    p0=np.exp(-x**2/2)/(2*np.pi)**0.5\n",
    "    p1=np.exp(-(tau/(tau+1))*(x-mu)**2/2)/(2*np.pi*(tau+1)/tau)**0.5\n",
    "    a=alpha/(alpha+beta)\n",
    "    return (1-a)*p0+a*p1"
   ]
  },
  {
   "cell_type": "code",
   "execution_count": 7,
   "metadata": {},
   "outputs": [],
   "source": [
    "def plot_true():\n",
    "    x=np.linspace(-10,10,1000)\n",
    "    p=p_true(x)\n",
    "    plt.plot(x,p)\n",
    "    plt.show()"
   ]
  },
  {
   "cell_type": "code",
   "execution_count": 8,
   "metadata": {},
   "outputs": [],
   "source": [
    "def plot_predict():\n",
    "    x=np.linspace(-10,10,1000)\n",
    "    p=p_predict(x)\n",
    "    plt.plot(x,p)\n",
    "    plt.show()"
   ]
  },
  {
   "cell_type": "code",
   "execution_count": 53,
   "metadata": {},
   "outputs": [],
   "source": [
    "def Y_predict(X):\n",
    "    return sigmoid(psi(alpha)-psi(beta)-((1/tau)-(mu-X)**2)/2)"
   ]
  },
  {
   "cell_type": "code",
   "execution_count": 54,
   "metadata": {},
   "outputs": [],
   "source": [
    "a0=0.4\n",
    "b0=3\n",
    "N=100\n",
    "T=50\n",
    "X=np.array([gen_sample() for n in range(N)])"
   ]
  },
  {
   "cell_type": "code",
   "execution_count": 55,
   "metadata": {},
   "outputs": [
    {
     "name": "stdout",
     "output_type": "stream",
     "text": [
      "complete\n",
      "CPU times: user 5.9 s, sys: 210 ms, total: 6.11 s\n",
      "Wall time: 7.4 s\n"
     ]
    },
    {
     "data": {
      "image/png": "[encoded data removed]",
      "text/plain": [
       "<Figure size 432x288 with 1 Axes>"
      ]
     },
     "metadata": {
      "needs_background": "light"
     },
     "output_type": "display_data"
    }
   ],
   "source": [
    "%%time\n",
    "alpha=1\n",
    "beta=1\n",
    "mu=0\n",
    "tau=1\n",
    "for t in range(T):\n",
    "    Y=Y_predict(X)\n",
    "    alpha=alpha+Y.sum()\n",
    "    beta=beta+N-Y.sum()\n",
    "    mu=(tau*mu+(X*Y).sum())/(tau+Y.sum())\n",
    "    tau=tau+Y.sum()\n",
    "    x=np.linspace(-5,7.5,1000)\n",
    "    plt.ylim(0, 0.4)\n",
    "    plt.plot(x,p_true(x),label=\"true\")\n",
    "    plt.plot(x,p_predict(x),label=\"predict\")\n",
    "    plt.title(\"N=\"+str(N)+\", iter=\"+str(t+1))\n",
    "    plt.legend()\n",
    "    plt.savefig(\"figure/\"+str(t).zfill(3)+\".png\")\n",
    "    plt.cla()\n",
    "files = sorted(glob.glob('figure/*.png'))\n",
    "images = list(map(lambda file: Image.open(file), files))\n",
    "now=dt.now().strftime(\"%Y%m%d%H%M%S\")\n",
    "images[0].save(now+'.gif', save_all=True, append_images=images[1:], duration=3, loop=1)\n",
    "print(\"complete\")\n",
    "!rm figure/*.png"
   ]
  },
  {
   "cell_type": "code",
   "execution_count": null,
   "metadata": {},
   "outputs": [],
   "source": []
  }
 ],
 "metadata": {
  "kernelspec": {
   "display_name": "Python 3",
   "language": "python",
   "name": "python3"
  },
  "language_info": {
   "codemirror_mode": {
    "name": "ipython",
    "version": 3
   },
   "file_extension": ".py",
   "mimetype": "text/x-python",
   "name": "python",
   "nbconvert_exporter": "python",
   "pygments_lexer": "ipython3",
   "version": "3.7.3"
  }
 },
 "nbformat": 4,
 "nbformat_minor": 4
}
