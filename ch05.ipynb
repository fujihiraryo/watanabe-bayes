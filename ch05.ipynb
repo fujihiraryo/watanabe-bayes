{
 "cells": [
  {
   "cell_type": "markdown",
   "metadata": {},
   "source": [
    "# p.162【章末問題】混合正規分布"
   ]
  },
  {
   "cell_type": "code",
   "execution_count": 1,
   "metadata": {},
   "outputs": [],
   "source": [
    "import numpy as np\n",
    "import matplotlib.pyplot as plt\n",
    "from scipy.stats import dirichlet\n",
    "from scipy.stats import multivariate_normal as normal"
   ]
  },
  {
   "cell_type": "markdown",
   "metadata": {},
   "source": [
    "確率モデル  \n",
    "$\\displaystyle p(x\\mid w)=\\sum_{k=1}^{K}\\frac{a_k}{(2\\pi\\sigma^2)^{N/2}}\\exp\\left(-\\frac{\\|x-m_k\\|}{2\\sigma^2}\\right)$  \n",
    "のベイズ推定を2通りの方法でやってみる.  \n",
    "事前分布は$a$についてディリクレ分布,$~m$について正規分布を用いる.  \n",
    "$\\displaystyle\\varphi(a\\mid \\phi)=\\frac{1}{Z(\\phi)}\\prod_{k=1}^{K}(a_k)^{\\phi_k-1}$  \n",
    "$\\displaystyle\\varphi(m_k\\mid\\mu_k,\\lambda_k)=\\left(\\frac{\\lambda_k}{2\\pi}\\right)^{N/2}\\exp\\left(-\\frac{\\lambda_k}{2}\\|m_k-\\mu_k\\|\\right)~~~~(k=1,\\dots,K)$  "
   ]
  },
  {
   "cell_type": "code",
   "execution_count": 2,
   "metadata": {},
   "outputs": [],
   "source": [
    "def model(x,a,m,sigma=1.0):\n",
    "    a=a/a.sum()\n",
    "    K=len(a)\n",
    "    p=0\n",
    "    for k in range(K):\n",
    "        p+=a[k]*normal(m[k],sigma).pdf(x)\n",
    "    return p"
   ]
  },
  {
   "cell_type": "markdown",
   "metadata": {},
   "source": [
    "以下の関数でパラメータ$w=(a,m)$を与えたときのサンプルを$n$個生成する."
   ]
  },
  {
   "cell_type": "code",
   "execution_count": 15,
   "metadata": {},
   "outputs": [],
   "source": [
    "def generate(a,m,sigma=1.0,n=100):\n",
    "    # K:コンポーネント数\n",
    "    # N:データの次元\n",
    "    K,N=m.shape\n",
    "    X=np.zeros((n,N))\n",
    "    for i in range(n):\n",
    "        k=np.random.choice(range(K),p=a)\n",
    "        x=normal(m[k],sigma).rvs()\n",
    "        X[i]=x\n",
    "    return X"
   ]
  },
  {
   "cell_type": "markdown",
   "metadata": {},
   "source": [
    "以下で述べる2つの方法では, 潜在変数を導入して考える.  \n",
    "潜在変数$y$を含めた確率モデルは  \n",
    "$\\displaystyle p(x,y\\mid w)=\\prod_{k=1}^K\\left(\\frac{a_k}{(2\\pi\\sigma^2)^{N/2}}\\exp\\left(-\\frac{\\|x-m_k\\|}{2\\sigma^2}\\right)\\right)^{y_k}$  \n",
    "と表せる.  \n",
    "この場合は$a,b$の事前分布が共役事前分布になっているので, もし潜在変数も観測データとして与えられたら, 事後分布はハイパーパラメータの更新のみで導くことができる.  \n",
    "$\\{(X_i,Y_i)\\}_{i=1}^n$が与えられたときのハイパーパラメータの更新は以下のようになる  \n",
    "$\\displaystyle\\phi_{k}\\leftarrow\\phi_{k}+\\sum_{i=1}^{n}Y_{ik}$  \n",
    "$\\displaystyle\\mu_{k}\\leftarrow\\frac{\\lambda_{k}\\mu_{k}+\\displaystyle\\sum_{i=1}^{n}Y_{ik}X_{i}}{\\lambda_{k}+\\displaystyle\\sum_{i=1}^{n}Y_{ik}}$  \n",
    "$\\displaystyle\\lambda_{k}\\leftarrow\\lambda_{k}+\\sum_{i=1}^{n}Y_{ik}$"
   ]
  },
  {
   "cell_type": "markdown",
   "metadata": {},
   "source": [
    "# 1. ギブスサンプリング"
   ]
  },
  {
   "cell_type": "markdown",
   "metadata": {},
   "source": [
    "ギブスサンプリングでは, 潜在変数$(Y_1,\\cdots,Y_n)$のサンプリングとパラメータ$(a,m)$のサンプリングを交互に行う  "
   ]
  },
  {
   "cell_type": "code",
   "execution_count": 39,
   "metadata": {},
   "outputs": [],
   "source": [
    "def hyper_update(phi,mu,lam,X,Y):\n",
    "    n,N=X.shape\n",
    "    n,K=Y.shape\n",
    "    phi_=phi+Y.sum(axis=0)\n",
    "    mu_=np.zeros((K,N))\n",
    "    for k in range(K):\n",
    "        XYk=np.zeros(N)\n",
    "        for i in range(n):\n",
    "            XYk+=Y[i][k]*X[i]\n",
    "        mu_[k]=(lam[k]*mu[k]+XYk)/(lam[k]+Y.sum(axis=0)[k])\n",
    "    lam_=lam+Y.sum(axis=0)\n",
    "    return phi_,mu_,lam_"
   ]
  },
  {
   "cell_type": "markdown",
   "metadata": {},
   "source": [
    "サンプル$(X_1,\\cdots,X_n)$とパラメータ$(a,m)$が与えられたとき, $Y_{ik}=1$となる確率は  \n",
    "$\\displaystyle\\frac{a_k\\exp\\left(-\\displaystyle\\frac{\\|X_i-m_k\\|}{2\\sigma^2}\\right)}{\\displaystyle\\sum_{k=1}^{K}a_k\\exp\\left(-\\frac{\\|X_i-m_k\\|}{2\\sigma^2}\\right)}$"
   ]
  },
  {
   "cell_type": "code",
   "execution_count": 41,
   "metadata": {},
   "outputs": [],
   "source": [
    "def latent_sampling(a,b,X,sigma=1.0):\n",
    "    n,N=X.shape\n",
    "    K=len(a)\n",
    "    Y=np.zeros((n,K))\n",
    "    for i in range(n):\n",
    "        pY=np.array([a[k]*normal(m[k],sigma).pdf(X[i]) for k in range(K)])\n",
    "        pY=pY/sum(pY)\n",
    "        Yi=np.zeros(K)\n",
    "        k=np.random.choice(range(K),p=pY)\n",
    "        Yi[k]=1\n",
    "        Y[i]=Yi\n",
    "    return Y"
   ]
  },
  {
   "cell_type": "markdown",
   "metadata": {},
   "source": [
    "事後分布からパラメータをサンプリングする関数"
   ]
  },
  {
   "cell_type": "code",
   "execution_count": 63,
   "metadata": {},
   "outputs": [],
   "source": [
    "def gibbs_sampling(X,K,sigma=1.0,times=100,burn=20):\n",
    "    X=np.array(X)\n",
    "    # n:データ数\n",
    "    # N:データの次元\n",
    "    n,N=X.shape\n",
    "    a_list=np.zeros((times,K))\n",
    "    m_list=np.zeros((times,K,N))\n",
    "    # ハイパーパラメータの初期値\n",
    "    phi=np.ones(K)\n",
    "    mu=np.zeros((K,N))\n",
    "    lam=np.ones(K)\n",
    "    for t in range(times):\n",
    "        # 事後分布からのサンプリング\n",
    "        a=dirichlet(phi).rvs()[0]\n",
    "        m=np.array([normal(mu[k],1/lam[k]).rvs() for k in range(K)])\n",
    "        a_list[t]=a\n",
    "        m_list[t]=m\n",
    "        # 潜在変数のサンプリング\n",
    "        Y=latent_sampling(a,m,X)\n",
    "        # ハイパーパラメータの更新\n",
    "        phi,mu,lam=hyper_update(phi,mu,lam,X,Y)\n",
    "    return a_list,m_list"
   ]
  },
  {
   "cell_type": "markdown",
   "metadata": {},
   "source": [
    "パラメータのサンプルについて確率モデルを平均することで, 予測分布を得る"
   ]
  },
  {
   "cell_type": "code",
   "execution_count": 64,
   "metadata": {},
   "outputs": [],
   "source": [
    "def predict(x,a_list,m_list):\n",
    "    T=len(a_list)\n",
    "    p=0\n",
    "    for t in range(T):\n",
    "        a=a_list[t]\n",
    "        m=m_list[t]\n",
    "        p+=model(x,a,m)\n",
    "    return p/T"
   ]
  },
  {
   "cell_type": "markdown",
   "metadata": {},
   "source": [
    "### 実験"
   ]
  },
  {
   "cell_type": "code",
   "execution_count": 67,
   "metadata": {},
   "outputs": [
    {
     "name": "stdout",
     "output_type": "stream",
     "text": [
      "CPU times: user 9.92 s, sys: 130 ms, total: 10 s\n",
      "Wall time: 17.1 s\n"
     ]
    }
   ],
   "source": [
    "%%time\n",
    "a=np.array([0.3,0.3,0.4])\n",
    "m=np.array([[0,5],[-5,0],[5,0]])\n",
    "X=generate(a,m,n=100)\n",
    "a_list,m_list=gibbs_sampling(X,3)"
   ]
  },
  {
   "cell_type": "code",
   "execution_count": 68,
   "metadata": {},
   "outputs": [
    {
     "name": "stdout",
     "output_type": "stream",
     "text": [
      "CPU times: user 3min 42s, sys: 2.69 s, total: 3min 45s\n",
      "Wall time: 5min 34s\n"
     ]
    },
    {
     "data": {
      "text/plain": [
       "<matplotlib.contour.QuadContourSet at 0x1a24a3dfd0>"
      ]
     },
     "execution_count": 68,
     "metadata": {},
     "output_type": "execute_result"
    },
    {
     "data": {
      "image/png": "[encoded data removed]",
      "text/plain": [
       "<Figure size 360x360 with 1 Axes>"
      ]
     },
     "metadata": {
      "needs_background": "light"
     },
     "output_type": "display_data"
    }
   ],
   "source": [
    "%%time\n",
    "plt.figure(figsize=(5,5))\n",
    "plt.xlim(-10,10)\n",
    "plt.ylim(-10,10)\n",
    "plt.scatter(X.T[0],X.T[1])\n",
    "size=50\n",
    "lin=np.linspace(-10,10,size)\n",
    "x0,x1=np.meshgrid(lin,lin)\n",
    "p=[[predict([x0[r][c],x1[r][c]],a_list,m_list) for c in range(size)] for r in range(size)]\n",
    "plt.contour(x0,x1,p)"
   ]
  },
  {
   "cell_type": "code",
   "execution_count": null,
   "metadata": {},
   "outputs": [],
   "source": []
  }
 ],
 "metadata": {
  "kernelspec": {
   "display_name": "Python 3",
   "language": "python",
   "name": "python3"
  },
  "language_info": {
   "codemirror_mode": {
    "name": "ipython",
    "version": 3
   },
   "file_extension": ".py",
   "mimetype": "text/x-python",
   "name": "python",
   "nbconvert_exporter": "python",
   "pygments_lexer": "ipython3",
   "version": "3.6.10"
  }
 },
 "nbformat": 4,
 "nbformat_minor": 4
}
